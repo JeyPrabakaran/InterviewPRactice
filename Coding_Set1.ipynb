{
 "cells": [
  {
   "cell_type": "code",
   "execution_count": null,
   "id": "5fd5c475",
   "metadata": {},
   "outputs": [],
   "source": [
    "1.Write a Python program that prints numbers from 1 to 5.\n",
    "Expected Output:\n",
    "1 2 3 4 5\n"
   ]
  },
  {
   "cell_type": "code",
   "execution_count": 1,
   "id": "296393f2-2ee6-412b-9376-298a990255eb",
   "metadata": {},
   "outputs": [
    {
     "name": "stdout",
     "output_type": "stream",
     "text": [
      "1\n",
      "2\n",
      "3\n",
      "4\n",
      "5\n"
     ]
    }
   ],
   "source": [
    "for i in range(1,6):\n",
    "    print(i)"
   ]
  },
  {
   "cell_type": "code",
   "execution_count": null,
   "id": "3c8bc472",
   "metadata": {},
   "outputs": [],
   "source": [
    "2.Write a Python program to print the first 5 even numbers. Expected Output:\n",
    "2 4 6 8 10\n",
    "\n"
   ]
  },
  {
   "cell_type": "code",
   "execution_count": 2,
   "id": "239a786e-2ec1-4573-8c7c-38473d637d04",
   "metadata": {},
   "outputs": [
    {
     "name": "stdin",
     "output_type": "stream",
     "text": [
      "Enter the range 5\n"
     ]
    },
    {
     "name": "stdout",
     "output_type": "stream",
     "text": [
      "2\n",
      "4\n",
      "6\n",
      "8\n",
      "10\n"
     ]
    }
   ],
   "source": [
    "num=int(input('Enter the range'))\n",
    "n=2*num\n",
    "for i in range(2,n+1):\n",
    "    if i%2==0:\n",
    "        print(i)"
   ]
  },
  {
   "cell_type": "code",
   "execution_count": 3,
   "id": "5e7af211",
   "metadata": {},
   "outputs": [
    {
     "ename": "SyntaxError",
     "evalue": "invalid decimal literal (2864761237.py, line 1)",
     "output_type": "error",
     "traceback": [
      "\u001b[1;36m  Cell \u001b[1;32mIn[3], line 1\u001b[1;36m\u001b[0m\n\u001b[1;33m    3.Write a Python program to print the sum of numbers from 1 to 10.\u001b[0m\n\u001b[1;37m     ^\u001b[0m\n\u001b[1;31mSyntaxError\u001b[0m\u001b[1;31m:\u001b[0m invalid decimal literal\n"
     ]
    }
   ],
   "source": [
    "3.Write a Python program to print the sum of numbers from 1 to 10. \n",
    "Expected Output:55\n",
    "\n",
    "\n"
   ]
  },
  {
   "cell_type": "code",
   "execution_count": 4,
   "id": "4e4cd8c0-5009-43b0-8059-2ac16a35f1a4",
   "metadata": {},
   "outputs": [
    {
     "name": "stdout",
     "output_type": "stream",
     "text": [
      "55\n"
     ]
    }
   ],
   "source": [
    "output=sum(i for i in range(11))\n",
    "print(output)"
   ]
  },
  {
   "cell_type": "code",
   "execution_count": 5,
   "id": "ac09aa1a",
   "metadata": {},
   "outputs": [
    {
     "ename": "SyntaxError",
     "evalue": "invalid decimal literal (2203886008.py, line 1)",
     "output_type": "error",
     "traceback": [
      "\u001b[1;36m  Cell \u001b[1;32mIn[5], line 1\u001b[1;36m\u001b[0m\n\u001b[1;33m    4.Write a Python function to find the factorial of 5. Expected Output:\u001b[0m\n\u001b[1;37m     ^\u001b[0m\n\u001b[1;31mSyntaxError\u001b[0m\u001b[1;31m:\u001b[0m invalid decimal literal\n"
     ]
    }
   ],
   "source": [
    "4.Write a Python function to find the factorial of 5. Expected Output:\n",
    "120\n",
    "\n"
   ]
  },
  {
   "cell_type": "code",
   "execution_count": 1,
   "id": "bba27a31-3839-4ca5-9fc8-42a57dd186d8",
   "metadata": {},
   "outputs": [
    {
     "name": "stdin",
     "output_type": "stream",
     "text": [
      "Enter the number 5\n"
     ]
    },
    {
     "data": {
      "text/plain": [
       "120"
      ]
     },
     "execution_count": 1,
     "metadata": {},
     "output_type": "execute_result"
    }
   ],
   "source": [
    "def fact(n):\n",
    "    if n==0 or n==1:\n",
    "        return 1\n",
    "    else:\n",
    "        return n*fact(n-1)\n",
    "num=int(input('Enter the number'))\n",
    "fact(num)"
   ]
  },
  {
   "cell_type": "code",
   "execution_count": null,
   "id": "8ab9fc8a",
   "metadata": {},
   "outputs": [],
   "source": [
    "5.Write a Python program to check if a number is prime. Expected Output (for input 7):\n",
    "7 is a prime number\n",
    "\n"
   ]
  },
  {
   "cell_type": "code",
   "execution_count": 8,
   "id": "5c2bf8cd-4c62-43df-a66f-19302f685cf5",
   "metadata": {},
   "outputs": [
    {
     "name": "stdin",
     "output_type": "stream",
     "text": [
      "Enter a number:  2\n"
     ]
    },
    {
     "name": "stdout",
     "output_type": "stream",
     "text": [
      "2 is a prime number.\n"
     ]
    }
   ],
   "source": [
    "# Check if a number is prime\n",
    "\n",
    "num = int(input(\"Enter a number: \"))\n",
    "\n",
    "# 0 and 1 are not prime numbers\n",
    "if num <= 1:\n",
    "    print(f\"{num} is not a prime number.\")\n",
    "else:\n",
    "    is_prime = True\n",
    "    for i in range(2, int(num**0.5)+1):\n",
    "        if num % i == 0:\n",
    "            is_prime = False\n",
    "            break\n",
    "\n",
    "    if is_prime:\n",
    "        print(f\"{num} is a prime number.\")\n",
    "    else:\n",
    "        print(f\"{num} is not a prime number.\")\n",
    "\n"
   ]
  },
  {
   "cell_type": "code",
   "execution_count": null,
   "id": "b69a7dd2-7a4d-4306-ab91-13b01bb3bd34",
   "metadata": {},
   "outputs": [],
   "source": [
    "Scenario: A system checks if a user is eligible to vote based on their age.\n",
    " Write logic to ask the user for their age and determine if they are eligible "
   ]
  },
  {
   "cell_type": "code",
   "execution_count": 14,
   "id": "6ce9c7bb-c0d5-49ba-b78e-f7debff0ffd6",
   "metadata": {},
   "outputs": [
    {
     "name": "stdin",
     "output_type": "stream",
     "text": [
      "Enter the Age 17\n"
     ]
    },
    {
     "name": "stdout",
     "output_type": "stream",
     "text": [
      "'17' is 'Not eligible' to vote\n"
     ]
    }
   ],
   "source": [
    "age=int(input('Enter the Age'))\n",
    "result= (\"Eligible\" if age>=18 else \"Not eligible\")\n",
    "print(f\"'{age}' is '{result}' to vote\")"
   ]
  },
  {
   "cell_type": "code",
   "execution_count": null,
   "id": "a51cb0db-60cd-478c-8bea-69f85fc75105",
   "metadata": {},
   "outputs": [],
   "source": [
    "A program processes a list of numbers and needs to find the largest value.\n",
    " Write logic to identify and return the largest number from a given list.\n"
   ]
  },
  {
   "cell_type": "code",
   "execution_count": 3,
   "id": "ac353009-fc9f-430c-aeea-51e1045093b1",
   "metadata": {},
   "outputs": [
    {
     "name": "stdout",
     "output_type": "stream",
     "text": [
      "\"Largest\" number in the list is \"20\"\n"
     ]
    }
   ],
   "source": [
    "list1=[5,10,15,2,20]\n",
    "large=list1[0]\n",
    "for i in range(1,len(list1)):\n",
    "    if list1[i]>large:\n",
    "        large=list1[i]\n",
    "print(f'\"Largest\" number in the list is \"{large}\"')"
   ]
  },
  {
   "cell_type": "code",
   "execution_count": null,
   "id": "0f4af246-61ba-492f-9d9b-f3d7130fcf19",
   "metadata": {},
   "outputs": [],
   "source": [
    "3.\tScenario: A company provides employees with a 10% bonus if their salary exceeds $50,000.\n",
    " Write logic to determine the bonus amount based on the given salary.\n"
   ]
  },
  {
   "cell_type": "code",
   "execution_count": 21,
   "id": "92c901d0-b8a2-4230-a799-0fd4c8bb18da",
   "metadata": {},
   "outputs": [
    {
     "name": "stdin",
     "output_type": "stream",
     "text": [
      "Enter the salary 52000\n"
     ]
    },
    {
     "name": "stdout",
     "output_type": "stream",
     "text": [
      "\"Bonusamount\" for the salary $52000 is:$\"5200.0\"\n"
     ]
    }
   ],
   "source": [
    "salary=int(input(\"Enter the salary\"))\n",
    "bonus=.1\n",
    "if salary>50000:\n",
    "    bonusamount=(salary*bonus)\n",
    "\n",
    "print(f'\"Bonusamount\" for the salary ${salary} is:$\"{bonusamount}\"')"
   ]
  },
  {
   "cell_type": "code",
   "execution_count": 22,
   "id": "eec9f2fb-b75c-49f6-a00f-fab8d5133176",
   "metadata": {},
   "outputs": [
    {
     "ename": "SyntaxError",
     "evalue": "invalid syntax (2222608077.py, line 1)",
     "output_type": "error",
     "traceback": [
      "\u001b[1;36m  Cell \u001b[1;32mIn[22], line 1\u001b[1;36m\u001b[0m\n\u001b[1;33m    4.\tScenario: A program evaluates a number to determine if it is even or odd.\u001b[0m\n\u001b[1;37m      \t^\u001b[0m\n\u001b[1;31mSyntaxError\u001b[0m\u001b[1;31m:\u001b[0m invalid syntax\n"
     ]
    }
   ],
   "source": [
    "4.\tScenario: A program evaluates a number to determine if it is even or odd.\n",
    " Write logic to check whether a given number is even or odd\n"
   ]
  },
  {
   "cell_type": "code",
   "execution_count": 24,
   "id": "2f9921e5-d77c-409d-837a-d53d9025c4f3",
   "metadata": {},
   "outputs": [
    {
     "name": "stdin",
     "output_type": "stream",
     "text": [
      "Enter the number 18\n"
     ]
    },
    {
     "name": "stdout",
     "output_type": "stream",
     "text": [
      "The given number \"18\" is \"Even\"\n"
     ]
    }
   ],
   "source": [
    "number=int(input('Enter the number'))\n",
    "result=(\"Even\" if number%2==0 else \"Odd\")\n",
    "print(f'The given number \"{number}\" is \"{result}\"')"
   ]
  },
  {
   "cell_type": "code",
   "execution_count": null,
   "id": "96690b26-0bcd-4cc4-9e00-0c93f250b3d6",
   "metadata": {},
   "outputs": [],
   "source": [
    "5.\tScenario: A text-processing tool reverses a given word or sentence for formatting purposes.\n",
    " Write logic to take a word or sentence as input and produce its reversed version.\n"
   ]
  },
  {
   "cell_type": "code",
   "execution_count": 28,
   "id": "39efa18a-ea27-4713-8651-6f710e1536ef",
   "metadata": {},
   "outputs": [
    {
     "name": "stdin",
     "output_type": "stream",
     "text": [
      "Enter the word abcd efgh\n"
     ]
    },
    {
     "name": "stdout",
     "output_type": "stream",
     "text": [
      "Reversed word of \"abcd efgh\" is \"hgfe dcba\"\n"
     ]
    }
   ],
   "source": [
    "word=input(\"Enter the word\")\n",
    "rev=''\n",
    "i=len(word)-1\n",
    "while i>=0:\n",
    "    rev=rev+word[i]\n",
    "    i-=1\n",
    "print(f'Reversed word of \"{word}\" is \"{rev}\"')   "
   ]
  },
  {
   "cell_type": "code",
   "execution_count": null,
   "id": "273d26fc-b217-4357-beef-9b4d842e56c1",
   "metadata": {},
   "outputs": [],
   "source": [
    "A grading system determines whether a student has passed or failed based on their score.\n",
    " Write logic to check if a student has passed a subject by scoring at least 40 marks.\n"
   ]
  },
  {
   "cell_type": "code",
   "execution_count": 31,
   "id": "8f5212b5-3d76-49d7-974d-e9dee4207c4f",
   "metadata": {},
   "outputs": [
    {
     "name": "stdin",
     "output_type": "stream",
     "text": [
      "Enter the mark 92\n"
     ]
    },
    {
     "name": "stdout",
     "output_type": "stream",
     "text": [
      "The Student got \"92\" marks and the result is \"Pass\"\n"
     ]
    }
   ],
   "source": [
    "mark=int(input(\"Enter the mark\"))\n",
    "result=(\"Pass\" if mark>=40 else \"Fail\")\n",
    "print(f'The Student got \"{mark}\" marks and the result is \"{result}\"')"
   ]
  },
  {
   "cell_type": "code",
   "execution_count": 6,
   "id": "674eadc0-da0a-4b78-95b5-e5ecabad22ff",
   "metadata": {},
   "outputs": [
    {
     "name": "stdin",
     "output_type": "stream",
     "text": [
      "Enter the mark 40\n"
     ]
    },
    {
     "name": "stdout",
     "output_type": "stream",
     "text": [
      "Pass\n"
     ]
    }
   ],
   "source": [
    "mark=int(input('Enter the mark'))\n",
    "print(f'{\"Pass\" if mark>=40 else \"fail\"}')"
   ]
  },
  {
   "cell_type": "code",
   "execution_count": null,
   "id": "0aaa6512-fc5f-4184-b97d-ac0eb08ddba6",
   "metadata": {},
   "outputs": [],
   "source": [
    "A retail store offers a 20% discount if a customer’s total order exceeds $100. Write l\n",
    "ogic to calculate the final amount to be paid after applying the discount."
   ]
  },
  {
   "cell_type": "code",
   "execution_count": 36,
   "id": "4cb614a7-b681-4b37-bb3a-fba504d1de06",
   "metadata": {},
   "outputs": [
    {
     "name": "stdin",
     "output_type": "stream",
     "text": [
      "Enter the order amount 110\n"
     ]
    },
    {
     "name": "stdout",
     "output_type": "stream",
     "text": [
      "Amount payable for the order \"110\" is \"88.0\"\n"
     ]
    }
   ],
   "source": [
    "totalorder=int(input('Enter the order amount'))\n",
    "discount=.2\n",
    "if totalorder>100:\n",
    "    payable=totalorder-(totalorder*discount)\n",
    "else: \n",
    "    payable=totalorder\n",
    "print(f'Amount payable for the order \"{totalorder}\" is \"{payable}\"')    "
   ]
  },
  {
   "cell_type": "code",
   "execution_count": null,
   "id": "18976706-e3a3-43bb-aba4-4172361d2710",
   "metadata": {},
   "outputs": [],
   "source": [
    "8.\tScenario: A banking system processes withdrawal requests and ensures the user has enough balance.\n",
    "logic to check if a user has enough balance before allowing a withdrawal and update the remaining balance accordingly"
   ]
  },
  {
   "cell_type": "code",
   "execution_count": 5,
   "id": "9ee5f400-f6af-4c9a-8818-c935c16be3b4",
   "metadata": {},
   "outputs": [
    {
     "name": "stdin",
     "output_type": "stream",
     "text": [
      "Enter the process either withdrawal or deposit deposit\n",
      "Enter the balance amount 200\n",
      "Enter the withdrawAmount or depositAmount 200\n"
     ]
    },
    {
     "name": "stdout",
     "output_type": "stream",
     "text": [
      "\"AccountBalance\" amount after the deposit of \"200\" is \"400\"\n"
     ]
    }
   ],
   "source": [
    "process=input('Enter the process either withdrawal or deposit')\n",
    "accountBalance=int(input('Enter the balance amount'))\n",
    "processAmount=int(input('Enter the withdrawAmount or depositAmount'))\n",
    "match process:\n",
    "    case 'withdraw':\n",
    "        if accountBalance>=processAmount:\n",
    "            accountBalance=accountBalance-processAmount\n",
    "            print(f'\"AccountBalance\" amount after the withdraw of \"{processAmount}\" is \"{accountBalance}\"')\n",
    "        else:\n",
    "            print('Insufficient fund to process')\n",
    "    case 'deposit':\n",
    "        accountBalance=accountBalance+processAmount\n",
    "        print(f'\"AccountBalance\" amount after the deposit of \"{processAmount}\" is \"{accountBalance}\"')\n",
    "    case _:\n",
    "        print(\"Enter either Withdraw or Deposit\")\n",
    "        \n",
    "        "
   ]
  },
  {
   "cell_type": "code",
   "execution_count": null,
   "id": "510367e6-e2fe-4a6e-a298-cb211bc3b4a3",
   "metadata": {},
   "outputs": [],
   "source": [
    "A calendar system verifies whether a given year is a leap year based on standard leap year rules.\n",
    " Write logic to determine whether a given year is a leap year.\n"
   ]
  },
  {
   "cell_type": "code",
   "execution_count": 8,
   "id": "8043ad50-4490-48d3-bd1d-42a37cf0aa40",
   "metadata": {},
   "outputs": [
    {
     "name": "stdin",
     "output_type": "stream",
     "text": [
      "Enter the year 20\n"
     ]
    },
    {
     "name": "stdout",
     "output_type": "stream",
     "text": [
      "\"20\" is a Leap year\n"
     ]
    }
   ],
   "source": [
    "year=int(input('Enter the year'))\n",
    "if(year%4==0 and year%100!=0) or (year%400==0):\n",
    "    print(f'\"{year}\" is a Leap year')\n",
    "else:\n",
    "    print(f'\"{year}\" is Not a Leap year')"
   ]
  },
  {
   "cell_type": "code",
   "execution_count": null,
   "id": "3ec87b3f-3928-4aeb-92ea-b3f56fa7eb8b",
   "metadata": {},
   "outputs": [],
   "source": [
    ": A program filters out only even numbers from a given list.\n",
    " Write logic to extract and return only the even numbers from a list.\n"
   ]
  },
  {
   "cell_type": "code",
   "execution_count": 13,
   "id": "2c168010-a52c-4ee5-9f4b-36044f71de4a",
   "metadata": {},
   "outputs": [
    {
     "name": "stdout",
     "output_type": "stream",
     "text": [
      "\"Even numbers\" in the list are [10, 20, 22, 30]\n"
     ]
    }
   ],
   "source": [
    "list1=[5,10,15,20,22,30]\n",
    "result=[i for i in list1 if i%2==0]\n",
    "print(f'\"Even numbers\" in the list are {result}')\n"
   ]
  },
  {
   "cell_type": "code",
   "execution_count": null,
   "id": "70c05c33-ce97-44a7-a472-ba47e1f9edc9",
   "metadata": {},
   "outputs": [],
   "source": []
  }
 ],
 "metadata": {
  "kernelspec": {
   "display_name": "Python 3 (ipykernel)",
   "language": "python",
   "name": "python3"
  },
  "language_info": {
   "codemirror_mode": {
    "name": "ipython",
    "version": 3
   },
   "file_extension": ".py",
   "mimetype": "text/x-python",
   "name": "python",
   "nbconvert_exporter": "python",
   "pygments_lexer": "ipython3",
   "version": "3.12.4"
  }
 },
 "nbformat": 4,
 "nbformat_minor": 5
}
