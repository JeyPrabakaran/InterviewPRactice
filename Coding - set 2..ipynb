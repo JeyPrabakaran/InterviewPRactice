{
 "cells": [
  {
   "cell_type": "code",
   "execution_count": null,
   "id": "aba1475d",
   "metadata": {},
   "outputs": [],
   "source": [
    "1.Write a Python program to find the reverse of a string. Expected Output (for input \"hello\"):\n",
    "olleh\n"
   ]
  },
  {
   "cell_type": "code",
   "execution_count": 1,
   "id": "2b066dc0-441a-4e14-b731-e4b20828031b",
   "metadata": {},
   "outputs": [
    {
     "name": "stdout",
     "output_type": "stream",
     "text": [
      "Reverse string of \"hello\" is \"olleh\"\n"
     ]
    }
   ],
   "source": [
    "str1='hello'\n",
    "rev=''\n",
    "for i in str1:\n",
    "    rev=i+rev\n",
    "print(f'Reverse string of \"{str1}\" is \"{rev}\"')"
   ]
  },
  {
   "cell_type": "code",
   "execution_count": null,
   "id": "5b1ec143",
   "metadata": {},
   "outputs": [],
   "source": [
    "2.Write a Python program to generate the Fibonacci sequence up to 10 terms.\n",
    "Expected Output:\n",
    "0 1 1 2 3 5 8 13 21 34\n",
    "    \n",
    "\n"
   ]
  },
  {
   "cell_type": "code",
   "execution_count": 14,
   "id": "628112f8-65d0-4501-ae62-7ec22985041a",
   "metadata": {},
   "outputs": [
    {
     "name": "stdout",
     "output_type": "stream",
     "text": [
      "[0, 1, 1, 2, 3, 5, 8, 13, 21, 34]\n"
     ]
    }
   ],
   "source": [
    "fib=[0,1]\n",
    "n=10\n",
    "for i in range(2,n):\n",
    "    nextterm=fib[-1]+fib[-2]\n",
    "    fib.append(nextterm)\n",
    "\n",
    "print(fib)"
   ]
  },
  {
   "cell_type": "code",
   "execution_count": null,
   "id": "c656f04a",
   "metadata": {},
   "outputs": [],
   "source": [
    "3.Write a Python function to check if a given string is a palindrome.\n",
    "Expected Output (for input \"madam\"):\n",
    "madam is a palindrome\n",
    "\n"
   ]
  },
  {
   "cell_type": "code",
   "execution_count": 33,
   "id": "aa07b0fd-d71c-404a-98ff-84e5c32b58c3",
   "metadata": {},
   "outputs": [
    {
     "name": "stdout",
     "output_type": "stream",
     "text": [
      "Not Palindrome\n"
     ]
    }
   ],
   "source": [
    "str1='madam'\n",
    "rev=''\n",
    "for i in str1:\n",
    "    rev=i+rev\n",
    "print(f'{\"Palindrome\" if str1==rev else \"Not Palindrome\"}')"
   ]
  },
  {
   "cell_type": "code",
   "execution_count": null,
   "id": "cd7b0a78",
   "metadata": {},
   "outputs": [],
   "source": [
    "\n",
    "\n",
    "4.Write a Python program to count the number of vowels in a given string. \n",
    "Expected Output (for input \"education\"):\n",
    "\n",
    "Number of vowels: 5\n",
    "    \n",
    "\n",
    "\n",
    "\n",
    "\n"
   ]
  },
  {
   "cell_type": "code",
   "execution_count": 4,
   "id": "01c81a2d-9c18-4664-8138-94e1476ea0f6",
   "metadata": {},
   "outputs": [
    {
     "name": "stdout",
     "output_type": "stream",
     "text": [
      "Number of vowels \"4\"\n"
     ]
    }
   ],
   "source": [
    "str1='education'\n",
    "count=sum(1 for i in str1 if i in 'aeiou')\n",
    "print(f'Number of vowels \"{count}\"')"
   ]
  },
  {
   "cell_type": "code",
   "execution_count": null,
   "id": "bdbb9b19",
   "metadata": {},
   "outputs": [],
   "source": [
    "5.Write a Python program to remove duplicates from a list.\n",
    "Expected Output (for input [1, 2, 2, 3, 4, 4, 5]):\n",
    "\n",
    " [1, 2, 3, 4, 5]\n",
    "\n",
    "\n"
   ]
  },
  {
   "cell_type": "code",
   "execution_count": 5,
   "id": "b3eb5d8f-1dc1-4431-a61a-149a3814a20d",
   "metadata": {},
   "outputs": [
    {
     "name": "stdout",
     "output_type": "stream",
     "text": [
      "[1, 2, 3, 4, 5]\n"
     ]
    }
   ],
   "source": [
    "list1=[1,2,2,3,4,4,5]\n",
    "list1=list(set(list1))\n",
    "print(list1)"
   ]
  },
  {
   "cell_type": "code",
   "execution_count": null,
   "id": "7cc0bf04-d4ce-40c3-960b-50403f5fb549",
   "metadata": {},
   "outputs": [],
   "source": [
    "Scenario: You are developing a banking application that categorizes transactions based on the amount entered."
   ]
  },
  {
   "cell_type": "code",
   "execution_count": 20,
   "id": "ee7f09c1-8afc-413f-8e9e-8992fa39bc32",
   "metadata": {},
   "outputs": [
    {
     "name": "stdin",
     "output_type": "stream",
     "text": [
      "Enter the amount -500\n"
     ]
    },
    {
     "name": "stdout",
     "output_type": "stream",
     "text": [
      "Negative\n"
     ]
    }
   ],
   "source": [
    "amount=int(input('Enter the amount'))\n",
    "result='Positive' if amount>0 else ('Negative' if amount<0 else 'zero')\n",
    "print(result)"
   ]
  },
  {
   "cell_type": "code",
   "execution_count": null,
   "id": "5f9b6bd6-ec70-4e20-afd1-3a72544e7294",
   "metadata": {},
   "outputs": [],
   "source": [
    "2.\tScenario: A digital locker requires users to enter a numerical passcode. As part of a security feature, \n",
    "the system checks the sum of the digits of the passcode.\n",
    "Write logic to compute the sum of the digits of a given number.\n",
    "\n"
   ]
  },
  {
   "cell_type": "code",
   "execution_count": 23,
   "id": "38e52be3-d455-4a23-86f1-24d0bb8e601e",
   "metadata": {},
   "outputs": [
    {
     "name": "stdin",
     "output_type": "stream",
     "text": [
      "Enter the passcode 123\n"
     ]
    },
    {
     "name": "stdout",
     "output_type": "stream",
     "text": [
      "\"Sum of passcode\" 123 is 6\n"
     ]
    }
   ],
   "source": [
    "passcode=int(input('Enter the passcode'))\n",
    "sum=0\n",
    "original=passcode\n",
    "while passcode>0:\n",
    "    digit=passcode%10\n",
    "    sum=sum+digit\n",
    "    passcode=passcode//10\n",
    "\n",
    "print(f'\"Sum of passcode\" {original} is {sum}')"
   ]
  },
  {
   "cell_type": "code",
   "execution_count": null,
   "id": "8a44c2fa-58d8-4020-82c4-63c4fe9db439",
   "metadata": {},
   "outputs": [],
   "source": [
    "A mobile payment app uses a simple checksum validation where reversing a transaction ID helps detect fraud.\n",
    " Write logic to take a number and return its reverse\n"
   ]
  },
  {
   "cell_type": "code",
   "execution_count": 24,
   "id": "eb9dd98c-ffd7-4f9d-9a0a-37ecf3ddb03f",
   "metadata": {},
   "outputs": [
    {
     "name": "stdin",
     "output_type": "stream",
     "text": [
      "Enter the TID 123\n"
     ]
    },
    {
     "name": "stdout",
     "output_type": "stream",
     "text": [
      "\"Reverse of Transaction ID\" 123 is 321\n"
     ]
    }
   ],
   "source": [
    "tID=int(input('Enter the TID'))\n",
    "sum=0\n",
    "original=tID\n",
    "while tID>0:\n",
    "    digit=tID%10\n",
    "    sum=sum*10+digit\n",
    "    tID=tID//10\n",
    "\n",
    "print(f'\"Reverse of Transaction ID\" {original} is {sum}')\n"
   ]
  },
  {
   "cell_type": "code",
   "execution_count": null,
   "id": "c156a50c-f037-4491-97fe-378452e59e38",
   "metadata": {},
   "outputs": [],
   "source": [
    "In a secure login system, certain features are enabled only for users with prime-numbered user IDs.\n",
    " Write logic to check if a given number is prime\n"
   ]
  },
  {
   "cell_type": "code",
   "execution_count": null,
   "id": "972517f2-325e-491b-826e-13b31a79b794",
   "metadata": {},
   "outputs": [],
   "source": [
    "A scientist is working on permutations and needs to calculate the factorial of numbers frequently.\n",
    " Write logic to find the factorial of a given number using recursion.\n"
   ]
  },
  {
   "cell_type": "code",
   "execution_count": 27,
   "id": "febaa9a5-5fcc-49e9-a338-88627feea579",
   "metadata": {},
   "outputs": [
    {
     "name": "stdin",
     "output_type": "stream",
     "text": [
      "Enter the number 5\n"
     ]
    },
    {
     "name": "stdout",
     "output_type": "stream",
     "text": [
      "Factorial of \"5\" is: 120\n"
     ]
    }
   ],
   "source": [
    "def fact(n):\n",
    "    if n==0:\n",
    "        return 1\n",
    "    else:\n",
    "        return n*fact(n-1)\n",
    "\n",
    "number=int(input('Enter the number'))\n",
    "print(f'Factorial of \"{number}\" is:', fact(5))\n",
    "    "
   ]
  },
  {
   "cell_type": "code",
   "execution_count": null,
   "id": "db3f1d65-8a1a-4aa9-b049-81c199fb4477",
   "metadata": {},
   "outputs": [],
   "source": [
    "8.\tA unique lottery system assigns ticket numbers where only Armstrong numbers win the jackpot.\n",
    " Write logic to check whether a given number is an Armstrong number\n"
   ]
  },
  {
   "cell_type": "code",
   "execution_count": 30,
   "id": "fca7b4b8-9623-49b7-b409-cd3727607978",
   "metadata": {},
   "outputs": [
    {
     "name": "stdin",
     "output_type": "stream",
     "text": [
      "Enter the number 153\n"
     ]
    },
    {
     "name": "stdout",
     "output_type": "stream",
     "text": [
      "Lottery Number153 is:Armstrong and the sum is 153\n"
     ]
    }
   ],
   "source": [
    "num=int(input('Enter the number'))\n",
    "length=len(str(num))\n",
    "original=num\n",
    "sum=0\n",
    "while num>0:\n",
    "    digit=num%10\n",
    "    sum=sum+digit**length\n",
    "    num=num//10\n",
    "\n",
    "print(f'Lottery Number{original} is:{\"Armstrong\" if original==sum else \"Not Armstrong\"} and the sum is {sum}')"
   ]
  },
  {
   "cell_type": "code",
   "execution_count": null,
   "id": "3d264aaf-5639-49d1-aa74-275e184260c5",
   "metadata": {},
   "outputs": [],
   "source": [
    "A password manager needs to strengthen weak passwords by swapping the first and last characters of user-generated passwords.\n",
    " Write logic to perform this operation on a given string\n"
   ]
  },
  {
   "cell_type": "code",
   "execution_count": 7,
   "id": "fa3e8ebf-5147-44cc-8b30-0a062cc3f06b",
   "metadata": {},
   "outputs": [
    {
     "name": "stdin",
     "output_type": "stream",
     "text": [
      "Enter the password Prabhu\n"
     ]
    },
    {
     "name": "stdout",
     "output_type": "stream",
     "text": [
      "urabhP\n"
     ]
    }
   ],
   "source": [
    "password=input(\"Enter the password\")\n",
    "length=len(password)\n",
    "if len(password)>=3:\n",
    "    list1=list(password)\n",
    "    #print(list1)\n",
    "    list1[0],list1[-1]=list1[-1],list1[0]\n",
    "    password=''.join(list1)\n",
    "\n",
    "print(password)\n",
    "    "
   ]
  },
  {
   "cell_type": "code",
   "execution_count": null,
   "id": "9300a0a5-5af1-4aea-8d18-0e139c9046a8",
   "metadata": {},
   "outputs": [],
   "source": [
    "A low-level networking application requires decimal numbers to be converted into binary format before transmission.\n",
    " Write logic to convert a given decimal number into its binary equivalent.\n"
   ]
  },
  {
   "cell_type": "code",
   "execution_count": 12,
   "id": "b48686a8-700e-44b1-9b65-700a1d0a122d",
   "metadata": {},
   "outputs": [
    {
     "name": "stdin",
     "output_type": "stream",
     "text": [
      "Enter the decimal number 10\n"
     ]
    },
    {
     "name": "stdout",
     "output_type": "stream",
     "text": [
      "1010\n"
     ]
    }
   ],
   "source": [
    "decimal=int(input('Enter the decimal number'))\n",
    "binary=bin(decimal)[2:]\n",
    "print(binary)"
   ]
  },
  {
   "cell_type": "code",
   "execution_count": 16,
   "id": "170386da-2b6b-45b4-a485-1f954f482115",
   "metadata": {},
   "outputs": [
    {
     "name": "stdin",
     "output_type": "stream",
     "text": [
      "Enter the decimal 10\n"
     ]
    },
    {
     "name": "stdout",
     "output_type": "stream",
     "text": [
      "0\n",
      "1\n",
      "0\n",
      "1\n",
      "Decimal number 10 equalent binary number is 1010\n"
     ]
    }
   ],
   "source": [
    "decimal=int(input('Enter the decimal'))\n",
    "original=decimal\n",
    "binary=''\n",
    "if decimal==0:\n",
    "    binary=0\n",
    "else:\n",
    "    while decimal>0:\n",
    "        bindigit=decimal%2\n",
    "        print(bindigit)\n",
    "        binary=str(bindigit)+binary\n",
    "        decimal=decimal//2\n",
    "\n",
    "print(f'Decimal number {original} equalent binary number is {binary}')"
   ]
  },
  {
   "cell_type": "code",
   "execution_count": 29,
   "id": "b805366f-e6a7-43e4-acf1-5ea8754bc81b",
   "metadata": {},
   "outputs": [
    {
     "name": "stdin",
     "output_type": "stream",
     "text": [
      "Enter the binary number 1101\n"
     ]
    },
    {
     "name": "stdout",
     "output_type": "stream",
     "text": [
      "13\n"
     ]
    }
   ],
   "source": [
    "#binary to decimal\n",
    "binary=input('Enter the binary number')\n",
    "decimal=0\n",
    "p=len(binary)-1\n",
    "for i in (binary):\n",
    "    if i=='1':\n",
    "        decimal=decimal+2**p\n",
    "    p-=1\n",
    "print(decimal)  "
   ]
  },
  {
   "cell_type": "code",
   "execution_count": null,
   "id": "54a0d19b-55ca-4fac-abab-08f95081cf95",
   "metadata": {},
   "outputs": [],
   "source": [
    "A text-processing tool helps summarize articles by identifying the most significant words.\n",
    " Write logic to find the longest word in a sentence.\n",
    "\n"
   ]
  },
  {
   "cell_type": "code",
   "execution_count": 31,
   "id": "01575337-82a4-48e5-a7f3-c1817fb19f6c",
   "metadata": {},
   "outputs": [
    {
     "name": "stdin",
     "output_type": "stream",
     "text": [
      "Enter the sentence i like badminton\n"
     ]
    },
    {
     "name": "stdout",
     "output_type": "stream",
     "text": [
      "['i', 'like', 'badminton']\n",
      "Maximum length word in the sentence \"i like badminton\" is 9 and the lenghthy word is \"badminton\"\n"
     ]
    }
   ],
   "source": [
    "sentence=input('Enter the sentence')\n",
    "word=sentence.split()\n",
    "print(word)\n",
    "maxlen=0\n",
    "for i in word:\n",
    "    if len(i)>maxlen:\n",
    "        maxlen=len(i)\n",
    "        maxlenword=i\n",
    "\n",
    "print(f'Maximum length word in the sentence \"{sentence}\" is {maxlen} and the lenghthy word is \"{maxlenword}\"')"
   ]
  },
  {
   "cell_type": "code",
   "execution_count": null,
   "id": "564a8678-1105-4559-9e2b-2f9f97a63500",
   "metadata": {},
   "outputs": [],
   "source": [
    "A plagiarism detection tool compares words from different documents and checks if they are anagrams (same characters but different order).\n",
    " Write logic to check whether two given strings are anagrams.\n"
   ]
  },
  {
   "cell_type": "code",
   "execution_count": 32,
   "id": "f9527acd-8342-4225-9dde-0814c7492fed",
   "metadata": {},
   "outputs": [
    {
     "name": "stdin",
     "output_type": "stream",
     "text": [
      "Enter the first string  Prabhu\n",
      "Enter the second string abhurp\n"
     ]
    },
    {
     "name": "stdout",
     "output_type": "stream",
     "text": [
      "\"prabhu\" and \"abhurp\" are anagrams\n"
     ]
    }
   ],
   "source": [
    "str1=input('Enter the first string ')\n",
    "str2=input('Enter the second string')\n",
    "str1=str1.replace(\" \",\"\").casefold()\n",
    "str2=str2.replace(\" \",\"\").casefold()\n",
    "if sorted(str1)==sorted(str2):\n",
    "    print(f'\"{str1}\" and \"{str2}\" are anagrams')\n",
    "else:\n",
    "    print(f'\"{str1}\" and \"{str2}\" are not anagrams')\n",
    "    \n"
   ]
  },
  {
   "cell_type": "code",
   "execution_count": null,
   "id": "464e86c1-f8d4-4599-a6df-510697ad4e89",
   "metadata": {},
   "outputs": [],
   "source": []
  }
 ],
 "metadata": {
  "kernelspec": {
   "display_name": "Python 3 (ipykernel)",
   "language": "python",
   "name": "python3"
  },
  "language_info": {
   "codemirror_mode": {
    "name": "ipython",
    "version": 3
   },
   "file_extension": ".py",
   "mimetype": "text/x-python",
   "name": "python",
   "nbconvert_exporter": "python",
   "pygments_lexer": "ipython3",
   "version": "3.12.4"
  }
 },
 "nbformat": 4,
 "nbformat_minor": 5
}
