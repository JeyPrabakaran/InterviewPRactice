{
 "cells": [
  {
   "cell_type": "code",
   "execution_count": null,
   "id": "90e9fa4e",
   "metadata": {},
   "outputs": [],
   "source": [
    "#1.Find the error in the following Python code:\n",
    "import math\n",
    "print(Math.sqrt(16))\n"
   ]
  },
  {
   "cell_type": "code",
   "execution_count": 1,
   "id": "4af4aba8-ddff-45e9-96ca-c24ce8c6c32f",
   "metadata": {},
   "outputs": [
    {
     "name": "stdout",
     "output_type": "stream",
     "text": [
      "4.0\n"
     ]
    }
   ],
   "source": [
    "#correctd code\n",
    "import math\n",
    "print(math.sqrt(16))"
   ]
  },
  {
   "cell_type": "code",
   "execution_count": 2,
   "id": "55520fd2",
   "metadata": {},
   "outputs": [
    {
     "ename": "UnboundLocalError",
     "evalue": "cannot access local variable 'x' where it is not associated with a value",
     "output_type": "error",
     "traceback": [
      "\u001b[1;31m---------------------------------------------------------------------------\u001b[0m",
      "\u001b[1;31mUnboundLocalError\u001b[0m                         Traceback (most recent call last)",
      "Cell \u001b[1;32mIn[2], line 7\u001b[0m\n\u001b[0;32m      4\u001b[0m     \u001b[38;5;28mprint\u001b[39m(x)\n\u001b[0;32m      6\u001b[0m x \u001b[38;5;241m=\u001b[39m \u001b[38;5;241m10\u001b[39m\n\u001b[1;32m----> 7\u001b[0m my_function()\n",
      "Cell \u001b[1;32mIn[2], line 3\u001b[0m, in \u001b[0;36mmy_function\u001b[1;34m()\u001b[0m\n\u001b[0;32m      2\u001b[0m \u001b[38;5;28;01mdef\u001b[39;00m \u001b[38;5;21mmy_function\u001b[39m():\n\u001b[1;32m----> 3\u001b[0m     x \u001b[38;5;241m+\u001b[39m\u001b[38;5;241m=\u001b[39m \u001b[38;5;241m5\u001b[39m\n\u001b[0;32m      4\u001b[0m     \u001b[38;5;28mprint\u001b[39m(x)\n",
      "\u001b[1;31mUnboundLocalError\u001b[0m: cannot access local variable 'x' where it is not associated with a value"
     ]
    }
   ],
   "source": [
    "#2.Find the error in the following Python code:\n",
    "def my_function():\n",
    "    x += 5\n",
    "    print(x)\n",
    "\n",
    "x = 10\n",
    "my_function()\n"
   ]
  },
  {
   "cell_type": "code",
   "execution_count": 3,
   "id": "cf9b31be-736f-4987-870a-51c09f1a21c5",
   "metadata": {},
   "outputs": [
    {
     "name": "stdout",
     "output_type": "stream",
     "text": [
      "15\n"
     ]
    }
   ],
   "source": [
    "#corrected code\n",
    "def my_function(x):\n",
    "    x=x+5\n",
    "    print(x)\n",
    "    \n",
    "x=10\n",
    "my_function(x)\n",
    "    "
   ]
  },
  {
   "cell_type": "code",
   "execution_count": null,
   "id": "f23899ca",
   "metadata": {},
   "outputs": [],
   "source": [
    "#3.x = 5\n",
    "if x = 10:\n",
    "    print(\"x is 10\")\n"
   ]
  },
  {
   "cell_type": "code",
   "execution_count": 4,
   "id": "0bdf70a0-97c4-4a35-9015-d1291af7cf7b",
   "metadata": {},
   "outputs": [],
   "source": [
    "#corrected code\n",
    "x=5\n",
    "if x==10:\n",
    "    print(\"x is 10\")\n"
   ]
  },
  {
   "cell_type": "code",
   "execution_count": 5,
   "id": "c644c2f2",
   "metadata": {},
   "outputs": [
    {
     "name": "stdout",
     "output_type": "stream",
     "text": [
      "None\n"
     ]
    }
   ],
   "source": [
    "#4.\n",
    "numbers = [5, 3, 8, 2]\n",
    "print(numbers.sort())\n"
   ]
  },
  {
   "cell_type": "code",
   "execution_count": 12,
   "id": "7888be13-a462-4f65-aa9c-c34681ba691d",
   "metadata": {},
   "outputs": [
    {
     "name": "stdout",
     "output_type": "stream",
     "text": [
      "[2, 3, 5, 8]\n"
     ]
    }
   ],
   "source": [
    "#corrected code\n",
    "numbers = [5, 3, 8, 2]\n",
    "numbers.sort()\n",
    "print(numbers)"
   ]
  },
  {
   "cell_type": "code",
   "execution_count": 13,
   "id": "c6bc9bfb",
   "metadata": {},
   "outputs": [
    {
     "name": "stdout",
     "output_type": "stream",
     "text": [
      "None\n"
     ]
    }
   ],
   "source": [
    "#5.\n",
    "def square(n):\n",
    "    n * n\n",
    "\n",
    "print(square(4))\n"
   ]
  },
  {
   "cell_type": "code",
   "execution_count": 14,
   "id": "9a4364b6-6ccf-4177-a6db-5dca6e8a49a8",
   "metadata": {},
   "outputs": [
    {
     "name": "stdout",
     "output_type": "stream",
     "text": [
      "16\n"
     ]
    }
   ],
   "source": [
    "#corrected code\n",
    "def square(n):\n",
    "    return n*n\n",
    "\n",
    "print(square(4))"
   ]
  },
  {
   "cell_type": "code",
   "execution_count": null,
   "id": "3a9dbcc0",
   "metadata": {},
   "outputs": [],
   "source": [
    "#6.\n",
    "my_tuple = (1, 2, 3)\n",
    "my_tuple[1] = 5\n"
   ]
  },
  {
   "cell_type": "code",
   "execution_count": 19,
   "id": "63e9c710-9e5a-498f-9ac0-346d9157a25a",
   "metadata": {},
   "outputs": [
    {
     "name": "stdout",
     "output_type": "stream",
     "text": [
      "(1, 5, 3)\n"
     ]
    }
   ],
   "source": [
    "#corrected code\n",
    "my_tuple = (1, 2, 3)\n",
    "my_tuple=list(my_tuple)\n",
    "my_tuple[1] = 5\n",
    "print(tuple(my_tuple))\n"
   ]
  },
  {
   "cell_type": "code",
   "execution_count": 20,
   "id": "4a72685b",
   "metadata": {},
   "outputs": [
    {
     "ename": "TypeError",
     "evalue": "not enough arguments for format string",
     "output_type": "error",
     "traceback": [
      "\u001b[1;31m---------------------------------------------------------------------------\u001b[0m",
      "\u001b[1;31mTypeError\u001b[0m                                 Traceback (most recent call last)",
      "Cell \u001b[1;32mIn[20], line 4\u001b[0m\n\u001b[0;32m      2\u001b[0m name \u001b[38;5;241m=\u001b[39m \u001b[38;5;124m\"\u001b[39m\u001b[38;5;124mAlice\u001b[39m\u001b[38;5;124m\"\u001b[39m\n\u001b[0;32m      3\u001b[0m age \u001b[38;5;241m=\u001b[39m \u001b[38;5;241m25\u001b[39m\n\u001b[1;32m----> 4\u001b[0m \u001b[38;5;28mprint\u001b[39m(\u001b[38;5;124m\"\u001b[39m\u001b[38;5;124mMy name is \u001b[39m\u001b[38;5;132;01m%s\u001b[39;00m\u001b[38;5;124m and I am \u001b[39m\u001b[38;5;132;01m%d\u001b[39;00m\u001b[38;5;124m years old\u001b[39m\u001b[38;5;124m\"\u001b[39m \u001b[38;5;241m%\u001b[39m (name))\n",
      "\u001b[1;31mTypeError\u001b[0m: not enough arguments for format string"
     ]
    }
   ],
   "source": [
    "#7.\n",
    "name = \"Alice\"\n",
    "age = 25\n",
    "print(\"My name is %s and I am %d years old\" % (name))\n"
   ]
  },
  {
   "cell_type": "code",
   "execution_count": 22,
   "id": "e2d5d9d4-f38c-4115-9e26-bb00477f1ee0",
   "metadata": {},
   "outputs": [
    {
     "name": "stdout",
     "output_type": "stream",
     "text": [
      "My name is \"Alice\" and I am \"25\" years old\n"
     ]
    }
   ],
   "source": [
    "#corrected code\n",
    "name = \"Alice\"\n",
    "age = 25\n",
    "print(f'My name is \"{name}\" and I am \"{age}\" years old')"
   ]
  },
  {
   "cell_type": "code",
   "execution_count": 24,
   "id": "3de969fe",
   "metadata": {},
   "outputs": [],
   "source": [
    "#8.\n",
    "a = [1, 2, 3]\n",
    "b = [1, 2, 3]\n",
    "if a is b:\n",
    "    print(\"Lists are equal\")\n"
   ]
  },
  {
   "cell_type": "code",
   "execution_count": 25,
   "id": "cb3d999c-0b41-4bb3-bc50-4ab9a8504b19",
   "metadata": {},
   "outputs": [
    {
     "name": "stdout",
     "output_type": "stream",
     "text": [
      "Lists are equal\n"
     ]
    }
   ],
   "source": [
    "#corrected code\n",
    "a = [1, 2, 3]\n",
    "b = [1, 2, 3]\n",
    "if a == b:\n",
    "    print(\"Lists are equal\")"
   ]
  },
  {
   "cell_type": "code",
   "execution_count": 26,
   "id": "dbe38465",
   "metadata": {},
   "outputs": [],
   "source": [
    "#9.\n",
    "for i in range(5, 1):\n",
    "    print(i)\n"
   ]
  },
  {
   "cell_type": "code",
   "execution_count": 27,
   "id": "f07571ef-6967-4b9a-a291-2505202fd74c",
   "metadata": {},
   "outputs": [
    {
     "name": "stdout",
     "output_type": "stream",
     "text": [
      "5\n",
      "4\n",
      "3\n",
      "2\n"
     ]
    }
   ],
   "source": [
    "#corrected code\n",
    "for i in range(5, 1,-1):\n",
    "    print(i)"
   ]
  },
  {
   "cell_type": "code",
   "execution_count": null,
   "id": "30cb0523",
   "metadata": {},
   "outputs": [],
   "source": [
    "#10.\n",
    "student = {\"name\": \"John\", \"age\": 20}\n",
    "print(student[name])\n"
   ]
  },
  {
   "cell_type": "code",
   "execution_count": 28,
   "id": "f8fcf267-5ad1-4af4-9b74-60c89b3e420b",
   "metadata": {},
   "outputs": [
    {
     "name": "stdout",
     "output_type": "stream",
     "text": [
      "John\n"
     ]
    }
   ],
   "source": [
    "#corrected code\n",
    "student = {\"name\": \"John\", \"age\": 20}\n",
    "print(student['name'])"
   ]
  },
  {
   "cell_type": "code",
   "execution_count": null,
   "id": "90c885da-2842-481b-a859-6482cef9ed2a",
   "metadata": {},
   "outputs": [],
   "source": []
  }
 ],
 "metadata": {
  "kernelspec": {
   "display_name": "Python 3 (ipykernel)",
   "language": "python",
   "name": "python3"
  },
  "language_info": {
   "codemirror_mode": {
    "name": "ipython",
    "version": 3
   },
   "file_extension": ".py",
   "mimetype": "text/x-python",
   "name": "python",
   "nbconvert_exporter": "python",
   "pygments_lexer": "ipython3",
   "version": "3.12.4"
  }
 },
 "nbformat": 4,
 "nbformat_minor": 5
}
